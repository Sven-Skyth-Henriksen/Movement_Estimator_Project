{
 "metadata": {
  "language_info": {
   "codemirror_mode": {
    "name": "ipython",
    "version": 3
   },
   "file_extension": ".py",
   "mimetype": "text/x-python",
   "name": "python",
   "nbconvert_exporter": "python",
   "pygments_lexer": "ipython3",
   "version": "3.8.8"
  },
  "orig_nbformat": 2,
  "kernelspec": {
   "name": "python388jvsc74a57bd0a39c75215214a0c56e27045d7dad723d3913eeb2c88109ae83ee6a2d98838bf1",
   "display_name": "Python 3.8.8 64-bit ('Work': conda)"
  },
  "metadata": {
   "interpreter": {
    "hash": "a39c75215214a0c56e27045d7dad723d3913eeb2c88109ae83ee6a2d98838bf1"
   }
  }
 },
 "nbformat": 4,
 "nbformat_minor": 2,
 "cells": [
  {
   "source": [
    "# Curl Trainer"
   ],
   "cell_type": "markdown",
   "metadata": {}
  },
  {
   "cell_type": "code",
   "execution_count": 1,
   "metadata": {},
   "outputs": [],
   "source": [
    "import cv2\n",
    "import numpy as np \n",
    "import mediapipe as mp \n",
    "import time \n",
    "import matplotlib as plt\n",
    "\n",
    "mp_drawing = mp.solutions.drawing_utils\n",
    "mp_pose = mp.solutions.pose\n"
   ]
  },
  {
   "cell_type": "code",
   "execution_count": 2,
   "metadata": {},
   "outputs": [],
   "source": [
    "## Angle detection\n",
    "\n",
    "def calcAngle(p1,p2,p3):\n",
    "    a = np.array(p1) # Fist\n",
    "    b = np.array(p2) # Mid\n",
    "    c = np.array(p3) # End\n",
    "\n",
    "    radians = np.arctan2(c[1]-b[1], c[0]-b[0]) - np.arctan2(a[1]-b[1], a[0]-b[0])\n",
    "    angle = np.abs(radians * 180.0/np.pi)\n",
    "\n",
    "    if angle > 180.0:\n",
    "        angle = 360 -angle\n",
    "    \n",
    "    return angle"
   ]
  },
  {
   "cell_type": "code",
   "execution_count": 4,
   "metadata": {},
   "outputs": [
    {
     "output_type": "error",
     "ename": "error",
     "evalue": "OpenCV(4.5.2) /private/var/folders/24/8k48jl6d249_n_qfxwsl6xvm0000gn/T/pip-req-build-0x3h2khn/opencv/modules/imgproc/src/color.cpp:182: error: (-215:Assertion failed) !_src.empty() in function 'cvtColor'\n",
     "traceback": [
      "\u001b[0;31m---------------------------------------------------------------------------\u001b[0m",
      "\u001b[0;31merror\u001b[0m                                     Traceback (most recent call last)",
      "\u001b[0;32m<ipython-input-4-c2bafa400965>\u001b[0m in \u001b[0;36m<module>\u001b[0;34m\u001b[0m\n\u001b[1;32m     12\u001b[0m \u001b[0;34m\u001b[0m\u001b[0m\n\u001b[1;32m     13\u001b[0m         \u001b[0;31m#Recolor Image from BGR to RGB\u001b[0m\u001b[0;34m\u001b[0m\u001b[0;34m\u001b[0m\u001b[0;34m\u001b[0m\u001b[0m\n\u001b[0;32m---> 14\u001b[0;31m         \u001b[0mimage\u001b[0m \u001b[0;34m=\u001b[0m \u001b[0mcv2\u001b[0m\u001b[0;34m.\u001b[0m\u001b[0mcvtColor\u001b[0m\u001b[0;34m(\u001b[0m\u001b[0mframe\u001b[0m\u001b[0;34m,\u001b[0m \u001b[0mcv2\u001b[0m\u001b[0;34m.\u001b[0m\u001b[0mCOLOR_BGR2RGB\u001b[0m\u001b[0;34m)\u001b[0m\u001b[0;34m\u001b[0m\u001b[0;34m\u001b[0m\u001b[0m\n\u001b[0m\u001b[1;32m     15\u001b[0m         \u001b[0mimage\u001b[0m\u001b[0;34m.\u001b[0m\u001b[0mflags\u001b[0m\u001b[0;34m.\u001b[0m\u001b[0mwriteable\u001b[0m \u001b[0;34m=\u001b[0m \u001b[0;32mFalse\u001b[0m\u001b[0;34m\u001b[0m\u001b[0;34m\u001b[0m\u001b[0m\n\u001b[1;32m     16\u001b[0m \u001b[0;34m\u001b[0m\u001b[0m\n",
      "\u001b[0;31merror\u001b[0m: OpenCV(4.5.2) /private/var/folders/24/8k48jl6d249_n_qfxwsl6xvm0000gn/T/pip-req-build-0x3h2khn/opencv/modules/imgproc/src/color.cpp:182: error: (-215:Assertion failed) !_src.empty() in function 'cvtColor'\n"
     ]
    }
   ],
   "source": [
    "cap = cv2.VideoCapture(0)\n",
    "\n",
    "#Curl Counter variable\n",
    "counter = 0\n",
    "stage = None\n",
    "\n",
    "\n",
    "## set mediapip instance: \n",
    "with mp_pose.Pose(min_detection_confidence=0.6, min_tracking_confidence=0.6) as pose:  ##confidence means how accurat the detection is but                                                                                             to high could mean no detection...\n",
    "    while cap.isOpened():\n",
    "        ret, frame = cap.read()\n",
    "\n",
    "        #Recolor Image from BGR to RGB\n",
    "        image = cv2.cvtColor(frame, cv2.COLOR_BGR2RGB)\n",
    "        image.flags.writeable = False\n",
    "\n",
    "        #Make Detection\n",
    "        results = pose.process(image)\n",
    "\n",
    "        # Recolor Image from RGB back to BGR\n",
    "        image.flags.writeable = True\n",
    "        image = cv2.cvtColor(image, cv2.COLOR_RGB2BGR)\n",
    "\n",
    "        #Extract Landmarks\n",
    "        try:\n",
    "            landmarks = results.pose_landmarks.landmark\n",
    "            \n",
    "            # Get coordinats\n",
    "            left_shoulder = [landmarks[mp_pose.PoseLandmark.LEFT_SHOULDER.value].x,landmarks[mp_pose.PoseLandmark.LEFT_SHOULDER.value].y]\n",
    "            left_elbow = [landmarks[mp_pose.PoseLandmark.LEFT_ELBOW.value].x,landmarks[mp_pose.PoseLandmark.LEFT_ELBOW.value].y]\n",
    "            left_wrist = [landmarks[mp_pose.PoseLandmark.LEFT_WRIST.value].x,landmarks[mp_pose.PoseLandmark.LEFT_WRIST.value].y]\n",
    "\n",
    "            # Calc Angle\n",
    "            angle = calcAngle(left_shoulder,left_elbow,left_wrist)\n",
    "\n",
    "            # Visualization angle\n",
    "            cv2.putText(image, str(int(angle)), \n",
    "                        tuple(np.multiply(left_elbow, [640,480]).astype(int))\n",
    "                        ,cv2.FONT_HERSHEY_PLAIN, 5,(255,255,255), 2, cv2.LINE_AA)\n",
    "            \n",
    "            #Curl Counter Logic\n",
    "            if angle > 160:\n",
    "                stage = 'down'\n",
    "            if angle < 30 and stage == 'down':\n",
    "                stage='up'\n",
    "                counter +=1\n",
    "                #print(counter)\n",
    "\n",
    "\n",
    "\n",
    "        except:\n",
    "            pass\n",
    "\n",
    "        #Render curl counter \n",
    "        #Setup status box\n",
    "        cv2.rectangle(image,(0,0),(225,120),(7,85,175), cv2.FILLED)\n",
    "        cv2.rectangle(image,(1400,0),(1000,120),(7,85,175), cv2.FILLED)\n",
    "        cv2.rectangle(image,(0,1400),(225,50),(7,85,175), cv2.FILLED)\n",
    "\n",
    "        # Lines (Design)\n",
    "        cv2.line(image, (0,150),(225,150),(255,255,255),3)\n",
    "        cv2.line(image, (0,300),(225,300),(255,255,255),3)\n",
    "\n",
    "        #Rep data\n",
    "        cv2.putText(image, 'REPS', (20,25), cv2.FONT_HERSHEY_PLAIN, 2, (255,255,255), 1, cv2.LINE_AA)\n",
    "        cv2.putText(image, str(counter), (40,100), cv2.FONT_HERSHEY_PLAIN, 3, (255,255,255), 2, cv2.LINE_AA)\n",
    "\n",
    "        #Stage data\n",
    "        cv2.putText(image, 'Stage', (20, 200), cv2.FONT_HERSHEY_PLAIN, 2, (255,255,255), 1, cv2.LINE_AA)\n",
    "        cv2.putText(image, str(stage), (20,250), cv2.FONT_HERSHEY_PLAIN, 3, (255,255,255), 2, cv2.LINE_AA)\n",
    "\n",
    "        #Text\n",
    "        cv2.putText(image, 'AI-Trainer', (45,650), cv2.FONT_HERSHEY_COMPLEX_SMALL, 1, (255,255,255), 2, cv2.LINE_AA)\n",
    "        cv2.putText(image, 'Made by', (75,680), cv2.FONT_HERSHEY_PLAIN, 1, (255,255,255), 1, cv2.LINE_AA)\n",
    "        cv2.putText(image, 'Sven Skyth Henriksen', (20,700), cv2.FONT_HERSHEY_PLAIN, 1, (255,255,255), 1, cv2.LINE_AA)\n",
    "        cv2.putText(image, 'Exercise: ', (1050,25), cv2.FONT_HERSHEY_PLAIN, 2, (255,255,255), 2, cv2.LINE_AA)\n",
    "        cv2.putText(image, 'Biceps Curls ', (1050,100), cv2.FONT_HERSHEY_PLAIN, 2, (255,255,255), 2, cv2.LINE_AA)\n",
    "\n",
    "\n",
    "        #Render Detections --> Showing landmarks and dots\n",
    "        mp_drawing.draw_landmarks(image, results.pose_landmarks, mp_pose.POSE_CONNECTIONS, \n",
    "                                mp_drawing.DrawingSpec(color=(245,117,66), thickness=3, circle_radius=4), #Giving the DOTS another color\n",
    "                                mp_drawing.DrawingSpec(color=(245,66,230), thickness=3, circle_radius=4)  #Giving the LINES another color \n",
    "                                )\n",
    "\n",
    "        cv2.imshow('Mediapipe Feed', image)\n",
    "\n",
    "        if cv2.waitKey(10) & 0xFF == ord('q'):\n",
    "            break\n",
    "    cap.release()\n",
    "    cv2.destroyAllWindows()"
   ]
  },
  {
   "cell_type": "code",
   "execution_count": null,
   "metadata": {},
   "outputs": [],
   "source": []
  }
 ]
}